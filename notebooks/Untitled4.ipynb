{
 "cells": [
  {
   "cell_type": "code",
   "execution_count": 1,
   "id": "d0cb938e",
   "metadata": {},
   "outputs": [],
   "source": [
    "import numpy as np"
   ]
  },
  {
   "cell_type": "code",
   "execution_count": 139,
   "id": "11418271",
   "metadata": {},
   "outputs": [
    {
     "data": {
      "text/plain": [
       "3.125"
      ]
     },
     "execution_count": 139,
     "metadata": {},
     "output_type": "execute_result"
    }
   ],
   "source": [
    "500/160"
   ]
  },
  {
   "cell_type": "code",
   "execution_count": 188,
   "id": "dedebda2",
   "metadata": {},
   "outputs": [],
   "source": [
    "im_shape = (630, 340)\n",
    "batch_size = 160"
   ]
  },
  {
   "cell_type": "code",
   "execution_count": 189,
   "id": "cfd6310c",
   "metadata": {},
   "outputs": [],
   "source": [
    "bathes = int(np.ceil(max(im_shape)/batch_size))"
   ]
  },
  {
   "cell_type": "code",
   "execution_count": 190,
   "id": "e5c306a9",
   "metadata": {},
   "outputs": [
    {
     "data": {
      "text/plain": [
       "4"
      ]
     },
     "execution_count": 190,
     "metadata": {},
     "output_type": "execute_result"
    }
   ],
   "source": [
    "bathes"
   ]
  },
  {
   "cell_type": "code",
   "execution_count": 191,
   "id": "243d7d91",
   "metadata": {},
   "outputs": [
    {
     "data": {
      "text/plain": [
       "150"
      ]
     },
     "execution_count": 191,
     "metadata": {},
     "output_type": "execute_result"
    }
   ],
   "source": [
    "160 - (4*160 - max(im_shape))"
   ]
  },
  {
   "cell_type": "code",
   "execution_count": 192,
   "id": "e04000ff",
   "metadata": {},
   "outputs": [],
   "source": [
    "\n",
    "lst = [[] for i in range(bathes)]\n",
    "fusion_prediction_helper = []\n",
    "for i in range(bathes):\n",
    "    if (i+1) * batch_size <= max(im_shape):\n",
    "        batch_size_2 = batch_size\n",
    "    else:\n",
    "        batch_size_2 = batch_size - (bathes*batch_size - max(im_shape))\n",
    "    if im_shape[0] > im_shape[1]:\n",
    "        fusion_prediction_helper.append(np.random.rand(batch_size_2, im_shape[1], 10))\n",
    "    else:\n",
    "        fusion_prediction_helper.append(np.random.rand(im_shape[0], batch_size_2, 10))\n",
    "    for j in range(8):\n",
    "        if im_shape[0] > im_shape[1]:\n",
    "            lst[i].append(np.random.rand(batch_size_2, im_shape[1]))\n",
    "        else:\n",
    "            lst[i].append(np.random.rand(im_shape[0], batch_size_2))\n"
   ]
  },
  {
   "cell_type": "code",
   "execution_count": null,
   "id": "b7aba287",
   "metadata": {},
   "outputs": [],
   "source": []
  },
  {
   "cell_type": "code",
   "execution_count": null,
   "id": "a6d547dc",
   "metadata": {},
   "outputs": [],
   "source": []
  },
  {
   "cell_type": "code",
   "execution_count": 193,
   "id": "fca08897",
   "metadata": {},
   "outputs": [],
   "source": [
    "if im_shape[0] > im_shape[1]:\n",
    "    bb = np.concatenate(lst, axis=1)\n",
    "    cc = np.concatenate(fusion_prediction_helper, axis=0)\n",
    "else:\n",
    "    bb = np.concatenate(lst, axis=2)\n",
    "    cc = np.concatenate(fusion_prediction_helper, axis=1)"
   ]
  },
  {
   "cell_type": "code",
   "execution_count": 194,
   "id": "ad71801b",
   "metadata": {},
   "outputs": [
    {
     "data": {
      "text/plain": [
       "(630, 340, 10)"
      ]
     },
     "execution_count": 194,
     "metadata": {},
     "output_type": "execute_result"
    }
   ],
   "source": [
    "cc.shape"
   ]
  },
  {
   "cell_type": "code",
   "execution_count": 174,
   "id": "803cf603",
   "metadata": {},
   "outputs": [
    {
     "data": {
      "text/plain": [
       "(4, 8)"
      ]
     },
     "execution_count": 174,
     "metadata": {},
     "output_type": "execute_result"
    }
   ],
   "source": [
    "aa.shape"
   ]
  },
  {
   "cell_type": "code",
   "execution_count": 175,
   "id": "7d5481b4",
   "metadata": {},
   "outputs": [
    {
     "data": {
      "text/plain": [
       "(8, 500, 500)"
      ]
     },
     "execution_count": 175,
     "metadata": {},
     "output_type": "execute_result"
    }
   ],
   "source": [
    "bb.shape"
   ]
  },
  {
   "cell_type": "code",
   "execution_count": 115,
   "id": "aea290a3",
   "metadata": {},
   "outputs": [],
   "source": [
    "p_idx_2 = []\n",
    "for i in bb:\n",
    "    p_idx_2.append(i)"
   ]
  },
  {
   "cell_type": "code",
   "execution_count": null,
   "id": "745782c0",
   "metadata": {},
   "outputs": [],
   "source": []
  },
  {
   "cell_type": "code",
   "execution_count": 116,
   "id": "6d515abe",
   "metadata": {},
   "outputs": [],
   "source": [
    "p_idx = []\n",
    "for id, _ in enumerate(aa[0]):\n",
    "    p_idx.append(aa[:, id])"
   ]
  },
  {
   "cell_type": "code",
   "execution_count": 112,
   "id": "0af2d691",
   "metadata": {},
   "outputs": [
    {
     "data": {
      "text/plain": [
       "(640, 340)"
      ]
     },
     "execution_count": 112,
     "metadata": {},
     "output_type": "execute_result"
    }
   ],
   "source": [
    "p_idx[0].reshape(4*160, 340).shape"
   ]
  },
  {
   "cell_type": "code",
   "execution_count": 118,
   "id": "486de492",
   "metadata": {},
   "outputs": [
    {
     "name": "stdout",
     "output_type": "stream",
     "text": [
      "True\n",
      "True\n",
      "True\n",
      "True\n",
      "True\n",
      "True\n",
      "True\n",
      "True\n"
     ]
    }
   ],
   "source": [
    "for i, j in zip(p_idx, p_idx_2):\n",
    "    print((i.reshape(4*160, 340) == j).all())"
   ]
  },
  {
   "cell_type": "code",
   "execution_count": 69,
   "id": "205e13df",
   "metadata": {},
   "outputs": [
    {
     "data": {
      "text/plain": [
       "8"
      ]
     },
     "execution_count": 69,
     "metadata": {},
     "output_type": "execute_result"
    }
   ],
   "source": [
    "len(p_idx)"
   ]
  },
  {
   "cell_type": "code",
   "execution_count": null,
   "id": "552bc3ce",
   "metadata": {},
   "outputs": [],
   "source": []
  }
 ],
 "metadata": {
  "kernelspec": {
   "display_name": "Python 3 (ipykernel)",
   "language": "python",
   "name": "python3"
  },
  "language_info": {
   "codemirror_mode": {
    "name": "ipython",
    "version": 3
   },
   "file_extension": ".py",
   "mimetype": "text/x-python",
   "name": "python",
   "nbconvert_exporter": "python",
   "pygments_lexer": "ipython3",
   "version": "3.10.4"
  }
 },
 "nbformat": 4,
 "nbformat_minor": 5
}

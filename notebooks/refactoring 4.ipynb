{
 "cells": [
  {
   "cell_type": "code",
   "execution_count": 2,
   "id": "02b1a803",
   "metadata": {},
   "outputs": [],
   "source": [
    "import numpy as np"
   ]
  },
  {
   "cell_type": "code",
   "execution_count": 10,
   "id": "2add5d59",
   "metadata": {},
   "outputs": [],
   "source": [
    "def softmax_new(x):\n",
    "    ret = np.zeros(x.shape)\n",
    "    filt = x == x\n",
    "    if len(x[np.where(filt)]) < 1:\n",
    "        return ret\n",
    "    x_new = np.nan_to_num(x[np.where(filt)])\n",
    "    # print(x[np.where(filt)])\n",
    "    x_row_max = np.nanmax(x_new, axis=-1)\n",
    "    x_row_max = x_row_max.reshape(list(x_new.shape)[:-1] + [1])\n",
    "    x_new = x_new - x_row_max\n",
    "    x_exp = np.exp(x_new)\n",
    "    x_exp_row_sum = x_exp.sum(axis=-1).reshape(list(x.shape)[:-1] + [1])\n",
    "    softmax = x_exp / x_exp_row_sum\n",
    "    ret[np.where(filt)] = softmax\n",
    "    return ret"
   ]
  },
  {
   "cell_type": "code",
   "execution_count": 14,
   "id": "5b02282b",
   "metadata": {},
   "outputs": [
    {
     "data": {
      "text/plain": [
       "array([0.3208213, 0.       , 0.       , 0.       , 0.6791787])"
      ]
     },
     "execution_count": 14,
     "metadata": {},
     "output_type": "execute_result"
    }
   ],
   "source": [
    "softmax_new(np.array([0.25, np.nan, np.nan, np.nan, 1]))"
   ]
  },
  {
   "cell_type": "code",
   "execution_count": 16,
   "id": "f7da327e",
   "metadata": {},
   "outputs": [
    {
     "data": {
      "text/plain": [
       "0"
      ]
     },
     "execution_count": 16,
     "metadata": {},
     "output_type": "execute_result"
    }
   ],
   "source": [
    "np.argmin([np.nan, np.nan])"
   ]
  },
  {
   "cell_type": "code",
   "execution_count": null,
   "id": "1d88916f",
   "metadata": {},
   "outputs": [],
   "source": []
  }
 ],
 "metadata": {
  "kernelspec": {
   "display_name": "Python 3 (ipykernel)",
   "language": "python",
   "name": "python3"
  },
  "language_info": {
   "codemirror_mode": {
    "name": "ipython",
    "version": 3
   },
   "file_extension": ".py",
   "mimetype": "text/x-python",
   "name": "python",
   "nbconvert_exporter": "python",
   "pygments_lexer": "ipython3",
   "version": "3.10.4"
  }
 },
 "nbformat": 4,
 "nbformat_minor": 5
}

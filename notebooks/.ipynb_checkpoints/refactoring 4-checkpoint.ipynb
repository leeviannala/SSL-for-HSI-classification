{
 "cells": [
  {
   "cell_type": "code",
   "execution_count": 2,
   "id": "b72a7748",
   "metadata": {},
   "outputs": [],
   "source": [
    "import numpy as np"
   ]
  },
  {
   "cell_type": "code",
   "execution_count": 3,
   "id": "9058464b",
   "metadata": {},
   "outputs": [],
   "source": [
    "def softmax_new(x):\n",
    "    ret = np.zeros(x.shape)\n",
    "    filt = x == x\n",
    "    x_new = np.nan_to_num(x[np.where(filt)])\n",
    "    x_row_max = np.nanmax(x_new, axis=-1)\n",
    "    x_row_max = x_row_max.reshape(list(x_new.shape)[:-1] + [1])\n",
    "    x_new = x_new - x_row_max\n",
    "    x_exp = np.exp(x_new)\n",
    "    x_exp_row_sum = x_exp.sum(axis=-1).reshape(list(x.shape)[:-1] + [1])\n",
    "    softmax = x_exp / x_exp_row_sum\n",
    "    ret[np.where(filt)] = softmax\n",
    "    return ret"
   ]
  },
  {
   "cell_type": "code",
   "execution_count": null,
   "id": "dea65275",
   "metadata": {},
   "outputs": [],
   "source": []
  }
 ],
 "metadata": {
  "kernelspec": {
   "display_name": "Python 3 (ipykernel)",
   "language": "python",
   "name": "python3"
  },
  "language_info": {
   "codemirror_mode": {
    "name": "ipython",
    "version": 3
   },
   "file_extension": ".py",
   "mimetype": "text/x-python",
   "name": "python",
   "nbconvert_exporter": "python",
   "pygments_lexer": "ipython3",
   "version": "3.10.4"
  }
 },
 "nbformat": 4,
 "nbformat_minor": 5
}

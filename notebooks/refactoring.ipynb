{
 "cells": [
  {
   "cell_type": "code",
   "execution_count": 1,
   "id": "0b242912",
   "metadata": {},
   "outputs": [
    {
     "name": "stderr",
     "output_type": "stream",
     "text": [
      "/mnt/condaenvs/leevi/envs/hyspec/lib/python3.10/site-packages/tqdm/auto.py:22: TqdmWarning: IProgress not found. Please update jupyter and ipywidgets. See https://ipywidgets.readthedocs.io/en/stable/user_install.html\n",
      "  from .autonotebook import tqdm as notebook_tqdm\n"
     ]
    }
   ],
   "source": [
    "import torch\n",
    "import torch.nn.functional as F\n",
    "import torch.nn as nn\n",
    "import torch.optim\n",
    "\n",
    "import numpy as np\n",
    "import os\n",
    "import shutil\n",
    "import argparse\n",
    "import pdb\n",
    "\n",
    "import sys\n",
    "sys.path.insert(0, '../')\n",
    "from utils import metrics, sample_gt, softmax,calprecision\n",
    "from datasets import get_dataset, get_originate_dataset\n",
    "from DenseConv import *\n",
    "import argparse\n",
    "from skimage.segmentation import felzenszwalb\n",
    "import time\n",
    "from scipy.stats import entropy\n",
    "import matplotlib.pyplot as plt\n",
    "import time"
   ]
  },
  {
   "cell_type": "code",
   "execution_count": 171,
   "id": "c3cbfcbd",
   "metadata": {},
   "outputs": [],
   "source": [
    "def softmax_new(x):\n",
    "    ret = np.zeros(x.shape)\n",
    "    x_new = x[np.where(x==x)]\n",
    "    if len(np.where(x!=x)[0]) > 1:\n",
    "        print('mätää')\n",
    "    x_row_max = np.nanmax(x_new, axis=-1)\n",
    "    x_row_max = x_row_max.reshape(list(x_new.shape)[:-1] + [1])\n",
    "    x_new = x_new - x_row_max\n",
    "    x_exp = np.exp(x_new)\n",
    "    x_exp_row_sum = x_exp.sum(axis=-1).reshape(list(x.shape)[:-1] + [1])\n",
    "    softmax = x_exp / x_exp_row_sum\n",
    "    ret[np.where(x==x)] = softmax\n",
    "    return ret\n",
    "def softmax(x):\n",
    "    x_row_max = x.max(axis=-1)\n",
    "    x_row_max = x_row_max.reshape(list(x.shape)[:-1] + [1])\n",
    "    x = x - x_row_max\n",
    "    x_exp = np.exp(x)\n",
    "    x_exp_row_sum = x_exp.sum(axis=-1).reshape(list(x.shape)[:-1] + [1])\n",
    "    softmax = x_exp / x_exp_row_sum\n",
    "    return softmax"
   ]
  },
  {
   "cell_type": "code",
   "execution_count": 192,
   "id": "c83adb74",
   "metadata": {},
   "outputs": [],
   "source": [
    "def sample_gt3(img, gt, train_gt, test_gt, SAMPLE_PERCENTAGE, IGNORED_LABELS, ALL_LABELS):\n",
    "    continue_count = 0\n",
    "    non_continue_count = 0\n",
    "    first_softmax = True\n",
    "    count_softmax = 0\n",
    "    X = img\n",
    "    Y = gt\n",
    "    labels = np.unique(Y)\n",
    "    labels = np.array([val for val in labels if not val in IGNORED_LABELS])\n",
    "    print(labels)\n",
    "    row, col, n_band = X.shape\n",
    "    num_class = len(ALL_LABELS) # TODO: Fix to the correct amount\n",
    "    max_class = np.max(ALL_LABELS)\n",
    "    # num_class = len(np.unique(labels))\n",
    "    first = True\n",
    "    skipped_labels = []\n",
    "    start = time.time()\n",
    "    for i, val in enumerate(ALL_LABELS): # range(1, num_class + 1):\n",
    "        if val in labels:\n",
    "            index = np.where(train_gt == val)\n",
    "            index2 = np.where(test_gt == val)\n",
    "            if first:\n",
    "                array1_train = index[0]\n",
    "                array2_train = index[1]\n",
    "                array1_test = index2[0]\n",
    "                array2_test = index2[1]\n",
    "                first = False\n",
    "            else:\n",
    "                array1_train = np.concatenate((array1_train, index[0]))\n",
    "                array2_train = np.concatenate((array2_train, index[1]))\n",
    "                array1_test = np.concatenate((array1_test, index2[0]))\n",
    "                array2_test = np.concatenate((array2_test, index2[1]))\n",
    "        else:\n",
    "            skipped_labels.append(val)\n",
    "    end = time.time()\n",
    "    print(end - start)\n",
    "    y_train = Y[array1_train, array2_train]\n",
    "    trueEDtimesSID = []\n",
    "    trueEDtimesSID2 = []\n",
    "    sumtrueES = []\n",
    "    sumfalseES = []\n",
    "    pseudo_labels3 = np.zeros([row, col, num_class])\n",
    "    start = time.time()\n",
    "    for i in range(0, len(array1_test)):\n",
    "        if i % 1000 == 0:\n",
    "            print(\"i:%d\" % (i))\n",
    "            print(time.time() - start)\n",
    "        #if i%200!=0:\n",
    "        #    continue\n",
    "        xtest = array1_test[i]\n",
    "        ytest = array2_test[i]\n",
    "        labeltest = Y[xtest, ytest]\n",
    "        specvectortest = X[xtest, ytest]\n",
    "        # i\n",
    "        EDs = np.zeros(num_class)\n",
    "        SIDs = np.zeros(num_class)\n",
    "        EDtimesSIDs = np.zeros(num_class)\n",
    "        EDtimesSIDs2 = np.zeros(num_class)\n",
    "        minED = 10000000000\n",
    "        for j, val in enumerate(ALL_LABELS): #range(1, num_class + 1):  # 类别循环\n",
    "            # print(j)\n",
    "        #for j in np.unique(gt) + 1:\n",
    "            if val in labels:\n",
    "                index2 = np.where(y_train == val)  ## 当前类别序号\n",
    "                index2 = index2[0]\n",
    "                EDsclass = []\n",
    "                SIDclass = []\n",
    "                EDtimesSIDclass = []\n",
    "                for nn in range(0, len(index2)):  # 类别内训练集循环 nn\n",
    "                    # print(index2[nn])##当前训练样本序号\n",
    "                    ind = index2[nn]\n",
    "                    xtrain = array1_train[ind]\n",
    "                    ytrain = array2_train[ind]\n",
    "                    specvectortrain = X[xtrain, ytrain]\n",
    "                    ED = np.sqrt(np.square(xtest - xtrain) + np.square(ytest - ytrain))\n",
    "                    SID1 = entropy(specvectortest, specvectortrain)\n",
    "                    SID2 = entropy(specvectortrain, specvectortest)\n",
    "                    SID = SID1 + SID2\n",
    "                    EDtimesSID = np.sqrt(ED * SID)\n",
    "                    ED = ED + SID\n",
    "                    EDsclass.append(ED)\n",
    "                    SIDclass.append(SID)\n",
    "                    EDtimesSIDclass.append(EDtimesSID)\n",
    "\n",
    "                    if ED < minED:\n",
    "                        minED = ED\n",
    "            # =================================\n",
    "                inde = np.argsort(EDsclass)\n",
    "\n",
    "                jiaquan = 0\n",
    "                for nn in range(0, len(index2)):\n",
    "                    jiaquandis = EDsclass[inde[nn]] * (float(num_class) ** (-nn))  # 类别内训练集循环 nn\n",
    "                    jiaquan = jiaquan + jiaquandis\n",
    "\n",
    "                #EDs[j - 1] = jiaquan\n",
    "                EDs[j] = jiaquan\n",
    "                #SIDs[j - 1] = np.min(SIDclass)\n",
    "                SIDs[j] = np.min(SIDclass)\n",
    "                #EDtimesSIDs[j - 1] = np.min(EDtimesSIDclass)\n",
    "                EDtimesSIDs[j] = np.min(EDtimesSIDclass)\n",
    "                ###\n",
    "                jiaquan2 = 0\n",
    "                inde2 = np.argsort(EDtimesSIDclass)\n",
    "                for nn in range(0, len(index2)):\n",
    "                    jiaquandis = EDtimesSIDclass[inde2[nn]] * (float(num_class) ** (-nn))  # 类别内训练集循环 nn\n",
    "                    jiaquan2 = jiaquan2 + jiaquandis\n",
    "                # EDtimesSIDs2[j - 1] = jiaquan2\n",
    "                EDtimesSIDs2[j] = jiaquan2\n",
    "            else:\n",
    "                EDs[j] = np.nan\n",
    "                SIDs[j] = np.nan\n",
    "                EDtimesSIDs[j] = np.nan\n",
    "                EDtimesSIDs2[j] = np.nan\n",
    "        # ========================\n",
    "        # print(\"minED:\", minED)\n",
    "        # if minED>2.71:\n",
    "        if np.nanmin(EDtimesSIDs) > 0.085:\n",
    "            continue_count += 1\n",
    "            end = time.time()\n",
    "            # print(start - end)\n",
    "            continue\n",
    "        else:\n",
    "            non_continue_count += 1\n",
    "            minn = np.nanmin(EDs)\n",
    "            softm = softmax(max_class / EDs)\n",
    "            softm2 = softmax(-EDs * num_class)\n",
    "            softm3 = softmax(-EDtimesSIDs2 * max_class*100)\n",
    "            minn\n",
    "        if first_softmax:\n",
    "            # print(softm3)\n",
    "            count_softmax += 1\n",
    "            if count_softmax > 5:\n",
    "                first_softmax = False\n",
    "        labeEDtimesSIDs = np.nanargmin(EDtimesSIDs)\n",
    "        labeEDtimesSIDs2 = np.nanargmin(EDtimesSIDs2)\n",
    "        train_gt[xtest, ytest] = labeEDtimesSIDs2\n",
    "        pseudo_labels3[xtest, ytest][ALL_LABELS] = softm3\n",
    "\n",
    "\n",
    "        if labeEDtimesSIDs == labeltest:\n",
    "            trueEDtimesSID.append(1)\n",
    "            sumtrueES.append(np.nanmin(EDtimesSIDs))\n",
    "        else:\n",
    "            trueEDtimesSID.append(0)\n",
    "            sumfalseES.append(np.nanmin(EDtimesSIDs))\n",
    "            # print(\"falseEDtimesSID:\", np.nanmin(EDtimesSIDs))\n",
    "\n",
    "        if labeEDtimesSIDs2 == labeltest:\n",
    "            trueEDtimesSID2.append(1)\n",
    "        else:\n",
    "            trueEDtimesSID2.append(0)\n",
    "    end = time.time()\n",
    "    print(end - start)\n",
    "    accuEDtimesSID2 = np.sum(trueEDtimesSID2) / len(trueEDtimesSID2)\n",
    "\n",
    "    print(\"lenEDtimesSID2: %d,accurate:%f, truenum:%d\" % (\n",
    "    len(trueEDtimesSID2), 100 * accuEDtimesSID2, np.sum(trueEDtimesSID2)))\n",
    "    print(continue_count)\n",
    "    print(non_continue_count)\n",
    "    print(\"================================\")\n",
    "    return train_gt,pseudo_labels3\n",
    "\n"
   ]
  },
  {
   "cell_type": "code",
   "execution_count": 198,
   "id": "95737b00",
   "metadata": {},
   "outputs": [],
   "source": [
    "def sample_gt3_orig(img, gt, train_gt, test_gt, SAMPLE_PERCENTAGE):\n",
    "    continue_count = 0\n",
    "    non_continue_count = 0\n",
    "    first_softmax = True\n",
    "    count_softmax = 0\n",
    "    X = img\n",
    "    Y = gt\n",
    "    row, col, n_band = X.shape\n",
    "    num_class = np.max(Y)\n",
    "    start = time.time()\n",
    "    for i in range(1, num_class + 1):\n",
    "        index = np.where(train_gt == i)\n",
    "        index2 = np.where(test_gt == i)\n",
    "\n",
    "        if i == 1:\n",
    "            array1_train = index[0]\n",
    "            array2_train = index[1]\n",
    "            array1_test = index2[0]\n",
    "            array2_test = index2[1]\n",
    "        else:\n",
    "            array1_train = np.concatenate((array1_train, index[0]))\n",
    "            array2_train = np.concatenate((array2_train, index[1]))\n",
    "            array1_test = np.concatenate((array1_test, index2[0]))\n",
    "            array2_test = np.concatenate((array2_test, index2[1]))\n",
    "    end = time.time()\n",
    "    print(end - start)\n",
    "    y_train = Y[array1_train, array2_train]\n",
    "    trueEDtimesSID = []\n",
    "    trueEDtimesSID2 = []\n",
    "    sumtrueES = []\n",
    "    sumfalseES = []\n",
    "    pseudo_labels3 = np.zeros([row, col, num_class + 1])\n",
    "    start = time.time()\n",
    "    for i in range(0, len(array1_test)):\n",
    "        if i % 1000 == 0:\n",
    "            print(\"i:%d\" % (i))\n",
    "            print(time.time()-start)\n",
    "        #if i%200!=0:\n",
    "        #    continue\n",
    "        xtest = array1_test[i]\n",
    "        ytest = array2_test[i]\n",
    "        labeltest = Y[xtest, ytest]\n",
    "        specvectortest = X[xtest, ytest]\n",
    "        i\n",
    "        EDs = np.zeros(num_class)\n",
    "        SIDs = np.zeros(num_class)\n",
    "        EDtimesSIDs = np.zeros(num_class)\n",
    "        EDtimesSIDs2 = np.zeros(num_class)\n",
    "        minED = 10000000000\n",
    "        for j in range(1, num_class + 1):  # 类别循环\n",
    "            index2 = np.where(y_train == j)  ## 当前类别序号\n",
    "            index2 = index2[0]\n",
    "            EDsclass = []\n",
    "            SIDclass = []\n",
    "            EDtimesSIDclass = []\n",
    "            for nn in range(0, len(index2)):  # 类别内训练集循环 nn\n",
    "                # print(index2[nn])##当前训练样本序号\n",
    "                ind = index2[nn]\n",
    "                xtrain = array1_train[ind]\n",
    "                ytrain = array2_train[ind]\n",
    "                specvectortrain = X[xtrain, ytrain]\n",
    "                ED = np.sqrt(np.square(xtest - xtrain) + np.square(ytest - ytrain))\n",
    "                SID1 = entropy(specvectortest, specvectortrain)\n",
    "                SID2 = entropy(specvectortrain, specvectortest)\n",
    "                SID = SID1 + SID2\n",
    "                EDtimesSID = np.sqrt(ED * SID)\n",
    "                ED = ED + SID\n",
    "                EDsclass.append(ED)\n",
    "                SIDclass.append(SID)\n",
    "                EDtimesSIDclass.append(EDtimesSID)\n",
    "\n",
    "                if ED < minED:\n",
    "                    minED = ED\n",
    "            # =================================\n",
    "            inde = np.argsort(EDsclass)\n",
    "\n",
    "            jiaquan = 0\n",
    "            for nn in range(0, len(index2)):\n",
    "                jiaquandis = EDsclass[inde[nn]] * (float(num_class) ** (-nn))  # 类别内训练集循环 nn\n",
    "                jiaquan = jiaquan + jiaquandis\n",
    "\n",
    "            EDs[j - 1] = jiaquan\n",
    "            SIDs[j - 1] = np.min(SIDclass)\n",
    "            EDtimesSIDs[j - 1] = np.min(EDtimesSIDclass)\n",
    "            ###\n",
    "            jiaquan2 = 0\n",
    "            inde2 = np.argsort(EDtimesSIDclass)\n",
    "            for nn in range(0, len(index2)):\n",
    "                jiaquandis = EDtimesSIDclass[inde2[nn]] * (float(num_class) ** (-nn))  # 类别内训练集循环 nn\n",
    "                jiaquan2 = jiaquan2 + jiaquandis\n",
    "            EDtimesSIDs2[j - 1] = jiaquan2\n",
    "        ###\n",
    "        # ========================\n",
    "        # print(\"minED:\", minED)\n",
    "        # if minED>2.71:\n",
    "        if np.min(EDtimesSIDs) > 0.085:\n",
    "            continue_count += 1\n",
    "            end = time.time()\n",
    "            # print(start - end)\n",
    "            continue\n",
    "        else:\n",
    "            non_continue_count += 1  \n",
    "            minn = np.min(EDs)\n",
    "            softm = softmax_orig(16 / EDs)\n",
    "            softm2 = softmax_orig(-EDs * num_class)\n",
    "            softm3 = softmax_orig(-EDtimesSIDs2 * num_class*100)\n",
    "            minn\n",
    "        \n",
    "        if first_softmax:\n",
    "            #print(softm3)\n",
    "            count_softmax += 1\n",
    "            if count_softmax > 5:\n",
    "                first_softmax = False\n",
    "        labeEDtimesSIDs = np.argmin(EDtimesSIDs) + 1\n",
    "        labeEDtimesSIDs2 = np.argmin(EDtimesSIDs2) + 1\n",
    "        train_gt[xtest, ytest] = labeEDtimesSIDs2\n",
    "        pseudo_labels3[xtest, ytest][1:17] = softm3\n",
    "\n",
    "\n",
    "        if labeEDtimesSIDs == labeltest:\n",
    "            trueEDtimesSID.append(1)\n",
    "            sumtrueES.append(np.min(EDtimesSIDs))\n",
    "        else:\n",
    "            trueEDtimesSID.append(0)\n",
    "            sumfalseES.append(np.min(EDtimesSIDs))\n",
    "            # print(\"falseEDtimesSID:\", np.min(EDtimesSIDs))\n",
    "\n",
    "        if labeEDtimesSIDs2 == labeltest:\n",
    "            trueEDtimesSID2.append(1)\n",
    "        else:\n",
    "            trueEDtimesSID2.append(0)\n",
    "    end = time.time()\n",
    "    print(end - start)\n",
    "    accuEDtimesSID2 = np.sum(trueEDtimesSID2) / len(trueEDtimesSID2)\n",
    "\n",
    "    print(\"lenEDtimesSID2: %d,accurate:%f, truenum:%d\" % (\n",
    "    len(trueEDtimesSID2), 100 * accuEDtimesSID2, np.sum(trueEDtimesSID2)))\n",
    "    print(continue_count)\n",
    "    print(non_continue_count)\n",
    "    print(\"================================\")\n",
    "    return train_gt,pseudo_labels3\n",
    "\n"
   ]
  },
  {
   "cell_type": "code",
   "execution_count": 202,
   "id": "f317bbd6",
   "metadata": {},
   "outputs": [
    {
     "name": "stderr",
     "output_type": "stream",
     "text": [
      "/home/leevi/SSL-for-HSI-classification/notebooks/../utils.py:477: FutureWarning: Using a non-tuple sequence for multidimensional indexing is deprecated; use `arr[tuple(seq)]` instead of `arr[seq]`. In the future this will be interpreted as an array index, `arr[np.array(seq)]`, which will result either in an error or a different result.\n",
      "  train_gt[train_indices] = gt[train_indices]\n",
      "/home/leevi/SSL-for-HSI-classification/notebooks/../utils.py:478: FutureWarning: Using a non-tuple sequence for multidimensional indexing is deprecated; use `arr[tuple(seq)]` instead of `arr[seq]`. In the future this will be interpreted as an array index, `arr[np.array(seq)]`, which will result either in an error or a different result.\n",
      "  test_gt[test_indices] = gt[test_indices]\n"
     ]
    },
    {
     "name": "stdout",
     "output_type": "stream",
     "text": [
      "[ 1  2  3  4  5  6  7  8  9 10 11 12 13 14 15 16]\n",
      "0.0023660659790039062\n",
      "i:0\n",
      "1.0013580322265625e-05\n",
      "i:1000\n",
      "9.500092267990112\n",
      "i:2000\n",
      "19.755858659744263\n",
      "i:3000\n",
      "29.536513328552246\n",
      "i:4000\n",
      "39.31660771369934\n",
      "i:5000\n",
      "48.19214153289795\n",
      "i:6000\n",
      "57.398603439331055\n",
      "i:7000\n",
      "67.04851245880127\n",
      "i:8000\n",
      "76.5787742137909\n",
      "i:9000\n",
      "85.88429617881775\n",
      "i:10000\n",
      "96.10017204284668\n",
      "97.91260099411011\n",
      "lenEDtimesSID2: 3334,accurate:95.140972, truenum:3172\n",
      "6835\n",
      "3334\n",
      "================================\n"
     ]
    }
   ],
   "source": [
    "datasets_root = '/mnt/data/leevi/'\n",
    "DATASET = 'IndianPines'\n",
    "SAMPLE_PERCENTAGE = 5\n",
    "img, gt, LABEL_VALUES, IGNORED_LABELS, _, _ = get_dataset(DATASET, datasets_root)\n",
    "X, Y = get_originate_dataset(DATASET, datasets_root)\n",
    "train_gt, test_gt = sample_gt(gt, SAMPLE_PERCENTAGE, mode='fixed')\n",
    "# _, pseudo_lables_orig = sample_gt3_orig(X, Y, train_gt, test_gt, SAMPLE_PERCENTAGE)\n",
    "_, pseudo_labels3 = sample_gt3(X, Y, train_gt, test_gt, SAMPLE_PERCENTAGE, IGNORED_LABELS, np.unique(gt))\n",
    "#EDs, EDsTimesSIDs = sample_gt3(X, Y, train_gt, test_gt, SAMPLE_PERCENTAGE, IGNORED_LABELS, np.unique(gt))\n",
    "#EDs2, EDsTimesSIDs2 = sample_gt3_orig(X, Y, train_gt, test_gt, SAMPLE_PERCENTAGE)"
   ]
  },
  {
   "cell_type": "code",
   "execution_count": 203,
   "id": "4beb4500",
   "metadata": {
    "scrolled": false
   },
   "outputs": [
    {
     "name": "stderr",
     "output_type": "stream",
     "text": [
      "/home/leevi/SSL-for-HSI-classification/notebooks/../utils.py:477: FutureWarning: Using a non-tuple sequence for multidimensional indexing is deprecated; use `arr[tuple(seq)]` instead of `arr[seq]`. In the future this will be interpreted as an array index, `arr[np.array(seq)]`, which will result either in an error or a different result.\n",
      "  train_gt[train_indices] = gt[train_indices]\n",
      "/home/leevi/SSL-for-HSI-classification/notebooks/../utils.py:478: FutureWarning: Using a non-tuple sequence for multidimensional indexing is deprecated; use `arr[tuple(seq)]` instead of `arr[seq]`. In the future this will be interpreted as an array index, `arr[np.array(seq)]`, which will result either in an error or a different result.\n",
      "  test_gt[test_indices] = gt[test_indices]\n"
     ]
    },
    {
     "name": "stdout",
     "output_type": "stream",
     "text": [
      "0.0021080970764160156\n",
      "i:0\n",
      "1.1920928955078125e-05\n",
      "i:1000\n",
      "11.24658989906311\n",
      "i:2000\n",
      "20.898458003997803\n",
      "i:3000\n",
      "29.590296745300293\n",
      "i:4000\n",
      "38.96557879447937\n",
      "i:5000\n",
      "47.49464964866638\n",
      "i:6000\n",
      "57.19113278388977\n",
      "i:7000\n",
      "66.15323090553284\n",
      "i:8000\n",
      "76.1566309928894\n",
      "i:9000\n",
      "86.14766836166382\n",
      "i:10000\n",
      "96.75031161308289\n",
      "98.49287366867065\n",
      "lenEDtimesSID2: 2769,accurate:95.521849, truenum:2645\n",
      "7400\n",
      "2769\n",
      "================================\n"
     ]
    }
   ],
   "source": [
    "datasets_root = '/mnt/data/leevi/'\n",
    "DATASET = 'IndianPines'\n",
    "SAMPLE_PERCENTAGE = 5\n",
    "img, gt, LABEL_VALUES, IGNORED_LABELS, _, _ = get_dataset(DATASET, datasets_root)\n",
    "X, Y = get_originate_dataset(DATASET, datasets_root)\n",
    "train_gt, test_gt = sample_gt(gt, SAMPLE_PERCENTAGE, mode='fixed')\n",
    "_, pseudo_lables_orig = sample_gt3_orig(X, Y, train_gt, test_gt, SAMPLE_PERCENTAGE)\n",
    "# _, pseudo_labels3 = sample_gt3(X, Y, train_gt, test_gt, SAMPLE_PERCENTAGE, IGNORED_LABELS, np.unique(gt))\n",
    "#EDs, EDsTimesSIDs = sample_gt3(X, Y, train_gt, test_gt, SAMPLE_PERCENTAGE, IGNORED_LABELS, np.unique(gt))\n",
    "#EDs2, EDsTimesSIDs2 = sample_gt3_orig(X, Y, train_gt, test_gt, SAMPLE_PERCENTAGE)"
   ]
  },
  {
   "cell_type": "code",
   "execution_count": 204,
   "id": "26b578ca",
   "metadata": {},
   "outputs": [
    {
     "name": "stdout",
     "output_type": "stream",
     "text": [
      "(145, 145, 17)\n",
      "(145, 145, 17)\n"
     ]
    }
   ],
   "source": [
    "print(pseudo_labels3.shape)\n",
    "print(pseudo_lables_orig.shape)"
   ]
  },
  {
   "cell_type": "code",
   "execution_count": 205,
   "id": "75fc260a",
   "metadata": {
    "scrolled": false
   },
   "outputs": [
    {
     "data": {
      "image/png": "[encoded data removed]",
      "text/plain": [
       "<Figure size 640x480 with 1 Axes>"
      ]
     },
     "metadata": {},
     "output_type": "display_data"
    },
    {
     "data": {
      "image/png": "[encoded data removed]",
      "text/plain": [
       "<Figure size 640x480 with 1 Axes>"
      ]
     },
     "metadata": {},
     "output_type": "display_data"
    },
    {
     "data": {
      "image/png": "[encoded data removed]",
      "text/plain": [
       "<Figure size 640x480 with 1 Axes>"
      ]
     },
     "metadata": {},
     "output_type": "display_data"
    }
   ],
   "source": [
    "num = 5\n",
    "plt.imshow(pseudo_labels3[:,:,num])\n",
    "plt.show()\n",
    "plt.imshow(pseudo_lables_orig[:,:,num])\n",
    "plt.show()\n",
    "plt.imshow(gt==num)\n",
    "plt.show()\n"
   ]
  },
  {
   "cell_type": "code",
   "execution_count": 24,
   "id": "a8c67bc5",
   "metadata": {},
   "outputs": [
    {
     "name": "stdout",
     "output_type": "stream",
     "text": [
      "(832, 710, 147)\n",
      "[ 0  1  2  3  4  5  6  7  8 10 11 12 13 14 15 16 17]\n"
     ]
    }
   ],
   "source": [
    "img2 = img[0::20]\n",
    "gt2 = gt[0::20]\n",
    "X2 = X[0::20]\n",
    "Y2 = Y[0::20]\n",
    "print(img2.shape)\n",
    "print(np.unique(Y2))"
   ]
  },
  {
   "cell_type": "code",
   "execution_count": 54,
   "id": "724f5b64",
   "metadata": {},
   "outputs": [
    {
     "data": {
      "text/plain": [
       "array([ 0,  1,  2,  3,  4,  5,  6,  7,  8,  9, 10, 11, 12, 13, 14, 15, 16],\n",
       "      dtype=uint8)"
      ]
     },
     "execution_count": 54,
     "metadata": {},
     "output_type": "execute_result"
    }
   ],
   "source": [
    "np.unique(Y)"
   ]
  },
  {
   "cell_type": "code",
   "execution_count": 33,
   "id": "af1bf634",
   "metadata": {},
   "outputs": [
    {
     "data": {
      "text/plain": [
       "array([ 0,  1,  2,  3,  4,  5,  6,  7,  8,  9, 10, 11, 12, 13, 14, 15, 16,\n",
       "       17])"
      ]
     },
     "execution_count": 33,
     "metadata": {},
     "output_type": "execute_result"
    }
   ],
   "source": [
    "np.arange(0,18)"
   ]
  },
  {
   "cell_type": "code",
   "execution_count": 34,
   "id": "2aac95e3",
   "metadata": {},
   "outputs": [
    {
     "name": "stderr",
     "output_type": "stream",
     "text": [
      "/home/leevi/SSL-for-HSI-classification/notebooks/../utils.py:477: FutureWarning: Using a non-tuple sequence for multidimensional indexing is deprecated; use `arr[tuple(seq)]` instead of `arr[seq]`. In the future this will be interpreted as an array index, `arr[np.array(seq)]`, which will result either in an error or a different result.\n",
      "  train_gt[train_indices] = gt[train_indices]\n",
      "/home/leevi/SSL-for-HSI-classification/notebooks/../utils.py:478: FutureWarning: Using a non-tuple sequence for multidimensional indexing is deprecated; use `arr[tuple(seq)]` instead of `arr[seq]`. In the future this will be interpreted as an array index, `arr[np.array(seq)]`, which will result either in an error or a different result.\n",
      "  test_gt[test_indices] = gt[test_indices]\n"
     ]
    },
    {
     "name": "stdout",
     "output_type": "stream",
     "text": [
      "[ 1  2  3  4  5  6  7  8 10 11 12 13 14 15 16 17]\n",
      "i:0\n",
      "i:1000\n",
      "i:2000\n",
      "i:3000\n",
      "i:4000\n",
      "i:5000\n",
      "i:6000\n",
      "i:7000\n",
      "i:8000\n",
      "i:9000\n",
      "i:10000\n",
      "i:11000\n",
      "i:12000\n",
      "i:13000\n",
      "i:14000\n",
      "i:15000\n",
      "i:16000\n",
      "i:17000\n",
      "i:18000\n",
      "i:19000\n",
      "i:20000\n",
      "i:21000\n",
      "i:22000\n",
      "i:23000\n",
      "i:24000\n",
      "i:25000\n",
      "i:26000\n",
      "i:27000\n",
      "i:28000\n",
      "i:29000\n",
      "lenEDtimesSID2: 1047,accurate:0.000000, truenum:0\n"
     ]
    }
   ],
   "source": [
    "train_gt, test_gt = sample_gt(gt2, SAMPLE_PERCENTAGE, mode='fixed')\n",
    "_, pseudo_labels3 = sample_gt3(X2, Y2, train_gt, test_gt, SAMPLE_PERCENTAGE, IGNORED_LABELS, np.arange(0,18))\n"
   ]
  },
  {
   "cell_type": "code",
   "execution_count": null,
   "id": "58ac0801",
   "metadata": {},
   "outputs": [],
   "source": [
    "fig = plt.figure(figsize=(5,5))\n",
    "plt.imshow(gt, aspect=0.1)\n",
    "plt.colorbar()\n",
    "fig.show()"
   ]
  },
  {
   "cell_type": "code",
   "execution_count": 36,
   "id": "2804e10a",
   "metadata": {},
   "outputs": [
    {
     "data": {
      "text/plain": [
       "18"
      ]
     },
     "execution_count": 36,
     "metadata": {},
     "output_type": "execute_result"
    }
   ],
   "source": [
    "len(np.arange(0,18))"
   ]
  },
  {
   "cell_type": "code",
   "execution_count": 37,
   "id": "675305b1",
   "metadata": {},
   "outputs": [
    {
     "data": {
      "text/plain": [
       "array([[[ True,  True,  True, ...,  True,  True,  True],\n",
       "        [ True,  True,  True, ...,  True,  True,  True],\n",
       "        [ True,  True,  True, ...,  True,  True,  True],\n",
       "        ...,\n",
       "        [ True,  True,  True, ...,  True,  True,  True],\n",
       "        [ True,  True,  True, ...,  True,  True,  True],\n",
       "        [ True,  True,  True, ...,  True,  True,  True]],\n",
       "\n",
       "       [[ True,  True,  True, ...,  True,  True,  True],\n",
       "        [ True,  True,  True, ...,  True,  True,  True],\n",
       "        [ True,  True,  True, ...,  True,  True,  True],\n",
       "        ...,\n",
       "        [ True,  True,  True, ...,  True,  True,  True],\n",
       "        [ True,  True,  True, ...,  True,  True,  True],\n",
       "        [ True,  True,  True, ...,  True,  True,  True]],\n",
       "\n",
       "       [[ True,  True,  True, ...,  True,  True,  True],\n",
       "        [ True,  True,  True, ...,  True,  True,  True],\n",
       "        [ True,  True,  True, ...,  True,  True,  True],\n",
       "        ...,\n",
       "        [ True,  True,  True, ...,  True,  True,  True],\n",
       "        [ True,  True,  True, ...,  True,  True,  True],\n",
       "        [ True,  True,  True, ...,  True,  True,  True]],\n",
       "\n",
       "       ...,\n",
       "\n",
       "       [[ True,  True,  True, ...,  True,  True,  True],\n",
       "        [ True,  True,  True, ...,  True,  True,  True],\n",
       "        [ True,  True,  True, ...,  True,  True,  True],\n",
       "        ...,\n",
       "        [ True,  True,  True, ...,  True,  True,  True],\n",
       "        [ True,  True,  True, ...,  True,  True,  True],\n",
       "        [ True,  True,  True, ...,  True,  True,  True]],\n",
       "\n",
       "       [[ True,  True,  True, ...,  True,  True,  True],\n",
       "        [ True,  True,  True, ...,  True,  True,  True],\n",
       "        [ True,  True,  True, ...,  True,  True,  True],\n",
       "        ...,\n",
       "        [ True,  True,  True, ...,  True,  True,  True],\n",
       "        [ True,  True,  True, ...,  True,  True,  True],\n",
       "        [ True,  True,  True, ...,  True,  True,  True]],\n",
       "\n",
       "       [[ True,  True,  True, ...,  True,  True,  True],\n",
       "        [ True,  True,  True, ...,  True,  True,  True],\n",
       "        [ True,  True,  True, ...,  True,  True,  True],\n",
       "        ...,\n",
       "        [ True,  True,  True, ...,  True,  True,  True],\n",
       "        [ True,  True,  True, ...,  True,  True,  True],\n",
       "        [ True,  True,  True, ...,  True,  True,  True]]])"
      ]
     },
     "execution_count": 37,
     "metadata": {},
     "output_type": "execute_result"
    }
   ],
   "source": [
    "pseudo_labels3 == pseudo_labels3"
   ]
  },
  {
   "cell_type": "code",
   "execution_count": null,
   "id": "c13edae7",
   "metadata": {},
   "outputs": [],
   "source": [
    "fig = plt.figure(figsize=(5,5))\n",
    "plt.imshow(img[:,:,100], aspect=0.1)\n",
    "plt.colorbar()\n",
    "fig.show()"
   ]
  },
  {
   "cell_type": "code",
   "execution_count": null,
   "id": "859aac6f",
   "metadata": {},
   "outputs": [],
   "source": []
  },
  {
   "cell_type": "code",
   "execution_count": null,
   "id": "6aafec84",
   "metadata": {},
   "outputs": [],
   "source": [
    "for i in np.unique(gt):\n",
    "    print(LABEL_VALUES[i])"
   ]
  },
  {
   "cell_type": "code",
   "execution_count": null,
   "id": "67a51bea",
   "metadata": {},
   "outputs": [],
   "source": [
    "IGNORED_LABELS"
   ]
  },
  {
   "cell_type": "code",
   "execution_count": 11,
   "id": "195b5dab",
   "metadata": {},
   "outputs": [
    {
     "data": {
      "text/plain": [
       "['High intensity developed',\n",
       " 'Med-low intensity developed',\n",
       " 'Deciduous, Evergreen, mixed forest',\n",
       " 'shrubland',\n",
       " 'Grassland-Pasture',\n",
       " 'Bareland',\n",
       " 'water',\n",
       " 'corn',\n",
       " 'cereals',\n",
       " 'almonds',\n",
       " 'grass fodders',\n",
       " 'vinewards-grapes',\n",
       " 'walnuts',\n",
       " 'pistachios',\n",
       " 'citrus',\n",
       " 'fallow']"
      ]
     },
     "execution_count": 11,
     "metadata": {},
     "output_type": "execute_result"
    }
   ],
   "source": [
    "LABEL_VALUES_2 = []\n",
    "for i, val in enumerate(np.unique(gt)):\n",
    "    if val not in IGNORED_LABELS:\n",
    "        x, y = np.where(gt==val)\n",
    "        for j in zip(x,y):\n",
    "            gt[j[0], j[1]] = i\n",
    "        x, y = np.where(Y==val)\n",
    "        for j in zip(x,y):\n",
    "            Y[j[0], j[1]] = i\n",
    "        LABEL_VALUES_2.append(LABEL_VALUES[val])\n",
    "LABEL_VALUES_2"
   ]
  },
  {
   "cell_type": "code",
   "execution_count": 12,
   "id": "e507bd0a",
   "metadata": {},
   "outputs": [
    {
     "name": "stdout",
     "output_type": "stream",
     "text": [
      "i:0\n",
      "i:1000\n",
      "i:2000\n",
      "i:3000\n",
      "i:4000\n",
      "i:5000\n",
      "i:6000\n",
      "i:7000\n",
      "i:8000\n",
      "i:9000\n",
      "i:10000\n",
      "i:11000\n",
      "i:12000\n",
      "i:13000\n",
      "i:14000\n",
      "i:15000\n",
      "i:16000\n"
     ]
    },
    {
     "name": "stderr",
     "output_type": "stream",
     "text": [
      "/home/leevi/notebooks/../SSL-for-HSI-classification/utils.py:505: RuntimeWarning: invalid value encountered in subtract\n",
      "  x = x - x_row_max\n"
     ]
    },
    {
     "name": "stdout",
     "output_type": "stream",
     "text": [
      "i:17000\n",
      "i:18000\n",
      "i:19000\n",
      "i:20000\n",
      "i:21000\n",
      "i:22000\n",
      "i:23000\n",
      "i:24000\n",
      "i:25000\n",
      "i:26000\n",
      "i:27000\n",
      "i:28000\n",
      "i:29000\n",
      "i:30000\n",
      "i:31000\n",
      "i:32000\n",
      "i:33000\n",
      "i:34000\n",
      "i:35000\n",
      "i:36000\n",
      "i:37000\n",
      "i:38000\n",
      "i:39000\n",
      "i:40000\n",
      "i:41000\n",
      "i:42000\n",
      "i:43000\n",
      "i:44000\n",
      "i:45000\n",
      "i:46000\n",
      "i:47000\n",
      "i:48000\n",
      "i:49000\n",
      "i:50000\n",
      "i:51000\n",
      "i:52000\n",
      "i:53000\n",
      "i:54000\n",
      "i:55000\n",
      "i:56000\n",
      "i:57000\n",
      "i:58000\n",
      "i:59000\n",
      "i:60000\n",
      "i:61000\n",
      "i:62000\n",
      "i:63000\n",
      "i:64000\n",
      "i:65000\n",
      "i:66000\n",
      "i:67000\n",
      "i:68000\n",
      "i:69000\n",
      "i:70000\n",
      "i:71000\n",
      "i:72000\n",
      "i:73000\n",
      "i:74000\n",
      "i:75000\n",
      "i:76000\n",
      "i:77000\n",
      "i:78000\n",
      "i:79000\n",
      "i:80000\n",
      "i:81000\n",
      "i:82000\n",
      "i:83000\n",
      "i:84000\n",
      "i:85000\n",
      "i:86000\n",
      "i:87000\n",
      "i:88000\n",
      "i:89000\n",
      "i:90000\n",
      "i:91000\n",
      "i:92000\n",
      "i:93000\n",
      "i:94000\n",
      "i:95000\n",
      "i:96000\n",
      "i:97000\n",
      "i:98000\n",
      "i:99000\n",
      "i:100000\n",
      "i:101000\n",
      "i:102000\n",
      "i:103000\n",
      "i:104000\n",
      "i:105000\n",
      "i:106000\n",
      "i:107000\n",
      "i:108000\n",
      "i:109000\n",
      "i:110000\n",
      "i:111000\n",
      "i:112000\n",
      "i:113000\n",
      "i:114000\n",
      "i:115000\n",
      "i:116000\n",
      "i:117000\n",
      "i:118000\n",
      "i:119000\n",
      "i:120000\n",
      "i:121000\n",
      "i:122000\n",
      "i:123000\n",
      "i:124000\n",
      "i:125000\n",
      "i:126000\n",
      "i:127000\n",
      "i:128000\n",
      "i:129000\n",
      "i:130000\n",
      "i:131000\n",
      "i:132000\n",
      "i:133000\n",
      "i:134000\n",
      "i:135000\n",
      "i:136000\n",
      "i:137000\n",
      "i:138000\n",
      "i:139000\n",
      "i:140000\n",
      "i:141000\n",
      "i:142000\n",
      "i:143000\n",
      "i:144000\n",
      "i:145000\n",
      "i:146000\n",
      "i:147000\n",
      "i:148000\n",
      "i:149000\n",
      "i:150000\n",
      "i:151000\n",
      "i:152000\n",
      "i:153000\n",
      "i:154000\n",
      "i:155000\n",
      "i:156000\n",
      "i:157000\n",
      "i:158000\n",
      "i:159000\n",
      "i:160000\n",
      "i:161000\n",
      "i:162000\n",
      "i:163000\n",
      "i:164000\n",
      "i:165000\n",
      "i:166000\n",
      "i:167000\n",
      "i:168000\n",
      "i:169000\n",
      "i:170000\n",
      "i:171000\n",
      "i:172000\n",
      "i:173000\n",
      "i:174000\n",
      "i:175000\n",
      "i:176000\n",
      "i:177000\n",
      "i:178000\n",
      "i:179000\n",
      "i:180000\n",
      "i:181000\n",
      "i:182000\n",
      "i:183000\n",
      "i:184000\n",
      "i:185000\n",
      "i:186000\n",
      "i:187000\n",
      "i:188000\n",
      "i:189000\n",
      "i:190000\n",
      "i:191000\n",
      "i:192000\n",
      "i:193000\n",
      "i:194000\n",
      "i:195000\n",
      "i:196000\n",
      "i:197000\n",
      "i:198000\n",
      "i:199000\n",
      "i:200000\n",
      "i:201000\n",
      "i:202000\n",
      "i:203000\n",
      "i:204000\n",
      "i:205000\n",
      "i:206000\n",
      "i:207000\n",
      "i:208000\n",
      "i:209000\n",
      "i:210000\n",
      "i:211000\n",
      "i:212000\n",
      "i:213000\n",
      "i:214000\n",
      "i:215000\n",
      "i:216000\n",
      "i:217000\n",
      "i:218000\n",
      "i:219000\n",
      "i:220000\n",
      "i:221000\n",
      "i:222000\n",
      "i:223000\n",
      "i:224000\n",
      "i:225000\n",
      "i:226000\n",
      "i:227000\n",
      "i:228000\n",
      "i:229000\n",
      "i:230000\n",
      "i:231000\n",
      "i:232000\n",
      "i:233000\n",
      "i:234000\n",
      "i:235000\n",
      "i:236000\n",
      "i:237000\n",
      "i:238000\n",
      "i:239000\n",
      "i:240000\n",
      "i:241000\n",
      "i:242000\n",
      "i:243000\n",
      "i:244000\n",
      "i:245000\n",
      "i:246000\n",
      "i:247000\n",
      "i:248000\n",
      "i:249000\n",
      "i:250000\n",
      "i:251000\n",
      "i:252000\n",
      "i:253000\n",
      "i:254000\n",
      "i:255000\n",
      "i:256000\n",
      "i:257000\n",
      "i:258000\n",
      "i:259000\n",
      "i:260000\n",
      "i:261000\n",
      "i:262000\n",
      "i:263000\n",
      "i:264000\n",
      "i:265000\n",
      "i:266000\n",
      "i:267000\n",
      "i:268000\n",
      "i:269000\n",
      "i:270000\n",
      "i:271000\n",
      "i:272000\n",
      "i:273000\n",
      "i:274000\n",
      "i:275000\n",
      "i:276000\n",
      "i:277000\n",
      "i:278000\n",
      "i:279000\n",
      "i:280000\n",
      "i:281000\n",
      "i:282000\n",
      "i:283000\n",
      "i:284000\n",
      "i:285000\n",
      "i:286000\n",
      "i:287000\n",
      "i:288000\n",
      "i:289000\n",
      "i:290000\n",
      "i:291000\n",
      "i:292000\n",
      "i:293000\n",
      "i:294000\n",
      "i:295000\n",
      "i:296000\n",
      "i:297000\n",
      "i:298000\n",
      "i:299000\n",
      "i:300000\n",
      "i:301000\n",
      "i:302000\n",
      "i:303000\n",
      "i:304000\n",
      "i:305000\n",
      "i:306000\n",
      "i:307000\n",
      "i:308000\n",
      "i:309000\n",
      "i:310000\n",
      "i:311000\n",
      "i:312000\n",
      "i:313000\n",
      "i:314000\n",
      "i:315000\n",
      "i:316000\n",
      "i:317000\n",
      "i:318000\n",
      "i:319000\n",
      "i:320000\n",
      "i:321000\n",
      "i:322000\n",
      "i:323000\n",
      "i:324000\n",
      "i:325000\n",
      "i:326000\n",
      "i:327000\n",
      "i:328000\n",
      "i:329000\n",
      "i:330000\n",
      "i:331000\n",
      "i:332000\n",
      "i:333000\n",
      "i:334000\n",
      "i:335000\n",
      "i:336000\n",
      "i:337000\n",
      "i:338000\n",
      "i:339000\n",
      "i:340000\n",
      "i:341000\n",
      "i:342000\n",
      "i:343000\n",
      "i:344000\n",
      "i:345000\n",
      "i:346000\n",
      "i:347000\n",
      "i:348000\n",
      "i:349000\n",
      "i:350000\n",
      "i:351000\n",
      "i:352000\n",
      "i:353000\n",
      "i:354000\n",
      "i:355000\n",
      "i:356000\n",
      "i:357000\n",
      "i:358000\n",
      "i:359000\n",
      "i:360000\n",
      "i:361000\n",
      "i:362000\n",
      "i:363000\n",
      "i:364000\n",
      "i:365000\n",
      "i:366000\n",
      "i:367000\n",
      "i:368000\n",
      "i:369000\n",
      "i:370000\n",
      "i:371000\n",
      "i:372000\n",
      "i:373000\n",
      "i:374000\n",
      "i:375000\n",
      "i:376000\n",
      "i:377000\n",
      "i:378000\n",
      "i:379000\n",
      "i:380000\n",
      "i:381000\n",
      "i:382000\n",
      "i:383000\n",
      "i:384000\n",
      "i:385000\n",
      "i:386000\n",
      "i:387000\n",
      "i:388000\n",
      "i:389000\n",
      "i:390000\n",
      "i:391000\n",
      "i:392000\n",
      "i:393000\n",
      "i:394000\n",
      "i:395000\n",
      "i:396000\n",
      "i:397000\n",
      "i:398000\n",
      "i:399000\n",
      "i:400000\n",
      "i:401000\n",
      "i:402000\n",
      "i:403000\n",
      "i:404000\n",
      "i:405000\n",
      "i:406000\n",
      "i:407000\n",
      "i:408000\n",
      "i:409000\n",
      "i:410000\n",
      "i:411000\n",
      "i:412000\n",
      "i:413000\n",
      "i:414000\n",
      "i:415000\n",
      "i:416000\n",
      "i:417000\n",
      "i:418000\n",
      "i:419000\n",
      "i:420000\n",
      "i:421000\n",
      "i:422000\n",
      "i:423000\n",
      "i:424000\n",
      "i:425000\n",
      "i:426000\n",
      "i:427000\n",
      "i:428000\n",
      "i:429000\n",
      "i:430000\n",
      "i:431000\n",
      "i:432000\n",
      "i:433000\n",
      "i:434000\n",
      "i:435000\n",
      "i:436000\n",
      "i:437000\n",
      "i:438000\n",
      "i:439000\n",
      "i:440000\n",
      "i:441000\n",
      "i:442000\n",
      "i:443000\n",
      "i:444000\n",
      "i:445000\n",
      "i:446000\n",
      "i:447000\n",
      "i:448000\n",
      "i:449000\n",
      "i:450000\n",
      "i:451000\n",
      "i:452000\n",
      "i:453000\n",
      "i:454000\n",
      "i:455000\n",
      "i:456000\n",
      "i:457000\n",
      "i:458000\n",
      "i:459000\n",
      "i:460000\n",
      "i:461000\n",
      "i:462000\n",
      "i:463000\n",
      "i:464000\n",
      "i:465000\n",
      "i:466000\n",
      "i:467000\n",
      "i:468000\n",
      "i:469000\n",
      "i:470000\n",
      "i:471000\n",
      "i:472000\n",
      "i:473000\n",
      "i:474000\n",
      "i:475000\n",
      "i:476000\n",
      "i:477000\n",
      "i:478000\n",
      "i:479000\n",
      "i:480000\n",
      "i:481000\n",
      "i:482000\n",
      "i:483000\n",
      "i:484000\n",
      "i:485000\n",
      "i:486000\n",
      "i:487000\n",
      "i:488000\n",
      "i:489000\n",
      "i:490000\n",
      "i:491000\n",
      "i:492000\n",
      "i:493000\n",
      "i:494000\n",
      "i:495000\n",
      "i:496000\n",
      "i:497000\n",
      "i:498000\n",
      "i:499000\n",
      "i:500000\n",
      "i:501000\n",
      "i:502000\n",
      "i:503000\n",
      "i:504000\n",
      "i:505000\n",
      "i:506000\n",
      "i:507000\n",
      "i:508000\n",
      "i:509000\n",
      "i:510000\n",
      "i:511000\n",
      "i:512000\n",
      "i:513000\n",
      "i:514000\n",
      "i:515000\n",
      "i:516000\n",
      "i:517000\n",
      "i:518000\n",
      "i:519000\n",
      "i:520000\n",
      "i:521000\n",
      "i:522000\n",
      "i:523000\n",
      "i:524000\n",
      "i:525000\n",
      "i:526000\n",
      "i:527000\n",
      "i:528000\n",
      "i:529000\n",
      "i:530000\n",
      "i:531000\n",
      "i:532000\n",
      "i:533000\n",
      "i:534000\n",
      "i:535000\n",
      "i:536000\n",
      "i:537000\n",
      "i:538000\n",
      "i:539000\n",
      "i:540000\n",
      "i:541000\n",
      "i:542000\n",
      "i:543000\n",
      "i:544000\n",
      "i:545000\n",
      "i:546000\n",
      "i:547000\n",
      "i:548000\n",
      "i:549000\n",
      "i:550000\n",
      "i:551000\n",
      "i:552000\n",
      "i:553000\n",
      "i:554000\n",
      "i:555000\n",
      "i:556000\n",
      "i:557000\n",
      "i:558000\n",
      "i:559000\n",
      "i:560000\n",
      "i:561000\n",
      "i:562000\n",
      "i:563000\n",
      "i:564000\n",
      "i:565000\n",
      "i:566000\n",
      "i:567000\n",
      "i:568000\n",
      "i:569000\n",
      "i:570000\n",
      "i:571000\n",
      "i:572000\n",
      "i:573000\n",
      "i:574000\n",
      "i:575000\n",
      "i:576000\n",
      "i:577000\n",
      "i:578000\n",
      "i:579000\n",
      "i:580000\n",
      "i:581000\n",
      "i:582000\n",
      "i:583000\n",
      "i:584000\n",
      "i:585000\n",
      "i:586000\n",
      "i:587000\n",
      "i:588000\n",
      "i:589000\n",
      "i:590000\n",
      "i:591000\n",
      "i:592000\n",
      "i:593000\n",
      "i:594000\n",
      "i:595000\n",
      "i:596000\n",
      "i:597000\n",
      "i:598000\n",
      "i:599000\n",
      "i:600000\n",
      "i:601000\n",
      "i:602000\n",
      "i:603000\n",
      "lenEDtimesSID2: 11438,accurate:99.195664, truenum:11346\n"
     ]
    }
   ],
   "source": [
    "train_gt, test_gt = sample_gt(gt, SAMPLE_PERCENTAGE, mode='fixed')\n",
    "_, pseudo_labels3 = sample_gt3(X, Y, train_gt, test_gt, SAMPLE_PERCENTAGE)\n"
   ]
  },
  {
   "cell_type": "code",
   "execution_count": 23,
   "id": "590fda68",
   "metadata": {},
   "outputs": [
    {
     "data": {
      "text/plain": [
       "16"
      ]
     },
     "execution_count": 23,
     "metadata": {},
     "output_type": "execute_result"
    }
   ],
   "source": [
    "np.max(Y)"
   ]
  },
  {
   "cell_type": "code",
   "execution_count": 24,
   "id": "2404e58a",
   "metadata": {},
   "outputs": [
    {
     "data": {
      "text/plain": [
       "17"
      ]
     },
     "execution_count": 24,
     "metadata": {},
     "output_type": "execute_result"
    }
   ],
   "source": [
    "len(np.unique(Y))"
   ]
  },
  {
   "cell_type": "code",
   "execution_count": 17,
   "id": "70a1cbe6",
   "metadata": {},
   "outputs": [
    {
     "data": {
      "text/plain": [
       "11518"
      ]
     },
     "execution_count": 17,
     "metadata": {},
     "output_type": "execute_result"
    }
   ],
   "source": [
    "62 + 27 + 5 + 96 + 421 + 161 + 2347 + 354 + 1722 + 350 + 554 + 869 + 374 + 1535 + 145 + 2496"
   ]
  },
  {
   "cell_type": "code",
   "execution_count": 16,
   "id": "e06b1a04",
   "metadata": {},
   "outputs": [
    {
     "data": {
      "text/plain": [
       "(Array([ 0,  1,  2,  3,  4,  5,  6,  7,  8,  9, 10, 11, 12, 13, 14, 15, 16],\n",
       "       dtype=uint8),\n",
       " array([11802882,       62,       27,        5,       96,      421,\n",
       "             161,     2347,      354,     1722,      350,      554,\n",
       "             869,      374,     1535,      145,     2496]))"
      ]
     },
     "execution_count": 16,
     "metadata": {},
     "output_type": "execute_result"
    }
   ],
   "source": [
    "np.unique(train_gt, return_counts=True)"
   ]
  },
  {
   "cell_type": "code",
   "execution_count": null,
   "id": "15e7bf36",
   "metadata": {},
   "outputs": [],
   "source": [
    "np.unique(test_gt, return_counts=True)"
   ]
  },
  {
   "cell_type": "code",
   "execution_count": null,
   "id": "01c92d70",
   "metadata": {},
   "outputs": [],
   "source": [
    "np.unique(gt, return_counts=True)"
   ]
  },
  {
   "cell_type": "code",
   "execution_count": null,
   "id": "99c920f2",
   "metadata": {},
   "outputs": [],
   "source": [
    "np.unique(Y, return_counts=True)"
   ]
  },
  {
   "cell_type": "code",
   "execution_count": null,
   "id": "ef31bcb5",
   "metadata": {},
   "outputs": [],
   "source": [
    "_, pseudo_labels3 = sample_gt3(X, Y, train_gt, test_gt, SAMPLE_PERCENTAGE)"
   ]
  },
  {
   "cell_type": "code",
   "execution_count": null,
   "id": "b5fa3983",
   "metadata": {},
   "outputs": [],
   "source": []
  },
  {
   "cell_type": "code",
   "execution_count": null,
   "id": "569a1285",
   "metadata": {},
   "outputs": [],
   "source": []
  },
  {
   "cell_type": "code",
   "execution_count": 108,
   "id": "db6ca769",
   "metadata": {},
   "outputs": [
    {
     "name": "stderr",
     "output_type": "stream",
     "text": [
      "/tmp/ipykernel_3454714/1497236846.py:1: RuntimeWarning: divide by zero encountered in true_divide\n",
      "  softm = softmax(16 / EDs3)\n",
      "/tmp/ipykernel_3454714/2521579881.py:4: RuntimeWarning: invalid value encountered in subtract\n",
      "  x = x - x_row_max\n"
     ]
    }
   ],
   "source": [
    "softm = softmax(16 / EDs3)\n",
    "softm2 = softmax(-EDs3 * 16)\n",
    "softm3 = softmax(-EDsTimesSIDs * 16*100)\n"
   ]
  },
  {
   "cell_type": "code",
   "execution_count": 109,
   "id": "11e292d8",
   "metadata": {},
   "outputs": [
    {
     "data": {
      "text/plain": [
       "array([0.00000000e+000, 1.00000000e+000, 0.00000000e+000, 0.00000000e+000,\n",
       "       0.00000000e+000, 0.00000000e+000, 0.00000000e+000, 7.24397042e-211,\n",
       "       3.20194460e-177, 0.00000000e+000, 3.06502530e-284, 0.00000000e+000,\n",
       "       0.00000000e+000, 0.00000000e+000, 0.00000000e+000, 0.00000000e+000,\n",
       "       0.00000000e+000])"
      ]
     },
     "execution_count": 109,
     "metadata": {},
     "output_type": "execute_result"
    }
   ],
   "source": [
    "softm3"
   ]
  },
  {
   "cell_type": "code",
   "execution_count": 102,
   "id": "e707b45e",
   "metadata": {},
   "outputs": [
    {
     "data": {
      "text/plain": [
       "array([nan, nan, nan, nan, nan, nan, nan, nan, nan, nan, nan, nan, nan,\n",
       "       nan, nan, nan, nan])"
      ]
     },
     "execution_count": 102,
     "metadata": {},
     "output_type": "execute_result"
    }
   ],
   "source": [
    "softm"
   ]
  },
  {
   "cell_type": "code",
   "execution_count": 103,
   "id": "32ecf5e9",
   "metadata": {},
   "outputs": [
    {
     "data": {
      "text/plain": [
       "array([9.99999975e-001, 2.45170517e-008, 2.77835294e-109, 0.00000000e+000,\n",
       "       0.00000000e+000, 0.00000000e+000, 6.42982497e-253, 4.93912647e-094,\n",
       "       2.25029986e-258, 0.00000000e+000, 7.55697364e-052, 9.37087965e-220,\n",
       "       0.00000000e+000, 0.00000000e+000, 4.91376113e-260, 0.00000000e+000,\n",
       "       0.00000000e+000])"
      ]
     },
     "execution_count": 103,
     "metadata": {},
     "output_type": "execute_result"
    }
   ],
   "source": [
    "softm2"
   ]
  },
  {
   "cell_type": "code",
   "execution_count": 104,
   "id": "27a1ed24",
   "metadata": {},
   "outputs": [
    {
     "data": {
      "text/plain": [
       "array([1.00000000e+000, 5.64121705e-032, 0.00000000e+000, 0.00000000e+000,\n",
       "       0.00000000e+000, 0.00000000e+000, 0.00000000e+000, 4.08648095e-242,\n",
       "       1.80628645e-208, 0.00000000e+000, 1.72904730e-315, 0.00000000e+000,\n",
       "       0.00000000e+000, 0.00000000e+000, 0.00000000e+000, 0.00000000e+000,\n",
       "       0.00000000e+000])"
      ]
     },
     "execution_count": 104,
     "metadata": {},
     "output_type": "execute_result"
    }
   ],
   "source": [
    "softm3"
   ]
  },
  {
   "cell_type": "code",
   "execution_count": 99,
   "id": "8607a913",
   "metadata": {},
   "outputs": [],
   "source": [
    "EDs3 = EDs\n",
    "EDs3[0] = 0"
   ]
  },
  {
   "cell_type": "code",
   "execution_count": 119,
   "id": "89461e9b",
   "metadata": {},
   "outputs": [],
   "source": [
    "EDsTimesSIDs[0] = np.nan"
   ]
  },
  {
   "cell_type": "code",
   "execution_count": 139,
   "id": "5c2f1e72",
   "metadata": {},
   "outputs": [],
   "source": [
    "EDsTimesSIDs3 = np.array([2.1,2,3])"
   ]
  },
  {
   "cell_type": "code",
   "execution_count": 142,
   "id": "0e118916",
   "metadata": {},
   "outputs": [],
   "source": [
    "x = -EDsTimesSIDs * 16*100"
   ]
  },
  {
   "cell_type": "code",
   "execution_count": 146,
   "id": "b56222a0",
   "metadata": {},
   "outputs": [
    {
     "data": {
      "text/plain": [
       "(array([0]),)"
      ]
     },
     "execution_count": 146,
     "metadata": {},
     "output_type": "execute_result"
    }
   ],
   "source": [
    "np.where(x!=x)"
   ]
  },
  {
   "cell_type": "code",
   "execution_count": 132,
   "id": "677c4fec",
   "metadata": {},
   "outputs": [],
   "source": [
    "x = np.nan_to_num(x, nan=np.nanmin(x)*10)"
   ]
  },
  {
   "cell_type": "code",
   "execution_count": 150,
   "id": "d87ae320",
   "metadata": {},
   "outputs": [
    {
     "data": {
      "text/plain": [
       "array([    0.        ,   -71.95262314,  -979.43748012, -2281.45089508,\n",
       "       -1858.25904666, -2450.14391138,  -834.28707543,  -555.81790831,\n",
       "        -478.34642629, -1315.7546691 ,  -724.76673373, -1270.41680063,\n",
       "       -1703.85833045, -1514.87418591, -1919.96067386, -1153.55211297,\n",
       "       -2996.33415447])"
      ]
     },
     "execution_count": 150,
     "metadata": {},
     "output_type": "execute_result"
    }
   ],
   "source": [
    "ret = np.zeros(x.shape)\n",
    "x_new = x[np.where(x==x)]\n",
    "ret[np.where(x==x)] = x_new\n",
    "ret"
   ]
  },
  {
   "cell_type": "code",
   "execution_count": 151,
   "id": "a93a3714",
   "metadata": {},
   "outputs": [
    {
     "data": {
      "text/plain": [
       "array([0.00000000e+000, 1.00000000e+000, 0.00000000e+000, 0.00000000e+000,\n",
       "       0.00000000e+000, 0.00000000e+000, 0.00000000e+000, 7.24397042e-211,\n",
       "       3.20194460e-177, 0.00000000e+000, 3.06502530e-284, 0.00000000e+000,\n",
       "       0.00000000e+000, 0.00000000e+000, 0.00000000e+000, 0.00000000e+000,\n",
       "       0.00000000e+000])"
      ]
     },
     "execution_count": 151,
     "metadata": {},
     "output_type": "execute_result"
    }
   ],
   "source": [
    "# x = np.nan_to_num(x, nan=np.nanmin(x)*10)\n",
    "ret = np.zeros(x.shape)\n",
    "x_new = x[np.where(x==x)]\n",
    "x_row_max = np.nanmax(x_new, axis=-1)\n",
    "x_row_max = x_row_max.reshape(list(x_new.shape)[:-1] + [1])\n",
    "x_new = x_new - x_row_max\n",
    "x_exp = np.exp(x_new)\n",
    "x_exp_row_sum = x_exp.sum(axis=-1).reshape(list(x.shape)[:-1] + [1])\n",
    "softmax = x_exp / x_exp_row_sum\n",
    "ret[np.where(x==x)] = softmax\n",
    "ret"
   ]
  },
  {
   "cell_type": "code",
   "execution_count": 152,
   "id": "b37947ec",
   "metadata": {},
   "outputs": [
    {
     "data": {
      "text/plain": [
       "array([1.00000000e+000, 0.00000000e+000, 0.00000000e+000, 0.00000000e+000,\n",
       "       0.00000000e+000, 0.00000000e+000, 7.24397042e-211, 3.20194460e-177,\n",
       "       0.00000000e+000, 3.06502530e-284, 0.00000000e+000, 0.00000000e+000,\n",
       "       0.00000000e+000, 0.00000000e+000, 0.00000000e+000, 0.00000000e+000])"
      ]
     },
     "execution_count": 152,
     "metadata": {},
     "output_type": "execute_result"
    }
   ],
   "source": [
    "softmax"
   ]
  },
  {
   "cell_type": "code",
   "execution_count": 206,
   "id": "07ebc065",
   "metadata": {},
   "outputs": [
    {
     "name": "stdout",
     "output_type": "stream",
     "text": [
      "18\n",
      "18\n"
     ]
    }
   ],
   "source": [
    "\n",
    "label_values = ['Undefined',\n",
    "                'High intensity developed', \n",
    "                'Med-low intensity developed',\n",
    "                'Deciduous, Evergreen, mixed forest',\n",
    "                'shrubland',\n",
    "                'Grassland-Pasture',\n",
    "                'Bareland',\n",
    "                'water',\n",
    "                'corn',\n",
    "                'cotton',\n",
    "                'cereals',\n",
    "                'almonds',\n",
    "                'grass fodders',\n",
    "                'vinewards-grapes',\n",
    "                'walnuts',\n",
    "                'pistachios',\n",
    "                'citrus',\n",
    "                'fallow']\n",
    "all_labels = np.arange(len(label_values))\n",
    "print(len(all_labels))\n",
    "print(len(label_values))"
   ]
  },
  {
   "cell_type": "code",
   "execution_count": 207,
   "id": "14df72af",
   "metadata": {},
   "outputs": [
    {
     "data": {
      "text/plain": [
       "array([ 0,  1,  2,  3,  4,  5,  6,  7,  8,  9, 10, 11, 12, 13, 14, 15, 16,\n",
       "       17])"
      ]
     },
     "execution_count": 207,
     "metadata": {},
     "output_type": "execute_result"
    }
   ],
   "source": [
    "all_labels"
   ]
  },
  {
   "cell_type": "code",
   "execution_count": 208,
   "id": "e4ce67d5",
   "metadata": {},
   "outputs": [
    {
     "data": {
      "text/plain": [
       "array([ 0,  1,  2,  3,  4,  5,  6,  7,  8,  9, 10, 11, 12, 13, 14, 15, 16,\n",
       "       17])"
      ]
     },
     "execution_count": 208,
     "metadata": {},
     "output_type": "execute_result"
    }
   ],
   "source": [
    "np.arange(0,18)"
   ]
  },
  {
   "cell_type": "code",
   "execution_count": null,
   "id": "cbe1e162",
   "metadata": {},
   "outputs": [],
   "source": []
  }
 ],
 "metadata": {
  "kernelspec": {
   "display_name": "Python 3 (ipykernel)",
   "language": "python",
   "name": "python3"
  },
  "language_info": {
   "codemirror_mode": {
    "name": "ipython",
    "version": 3
   },
   "file_extension": ".py",
   "mimetype": "text/x-python",
   "name": "python",
   "nbconvert_exporter": "python",
   "pygments_lexer": "ipython3",
   "version": "3.10.4"
  }
 },
 "nbformat": 4,
 "nbformat_minor": 5
}
